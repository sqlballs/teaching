{
  "cells": [
    {
      "metadata": {},
      "cell_type": "markdown",
      "source": "# In the following exercise we will use the built-in dataset loader for 20 newsgroups from scikit-learn. The dataset is called “Twenty Newsgroups”.  \n\n"
    },
    {
      "metadata": {
        "trusted": true
      },
      "cell_type": "code",
      "source": "from sklearn.datasets import fetch_20newsgroups",
      "execution_count": 1,
      "outputs": [
        {
          "output_type": "stream",
          "text": "/home/nbuser/anaconda3_501/lib/python3.6/importlib/_bootstrap.py:219: RuntimeWarning: numpy.dtype size changed, may indicate binary incompatibility. Expected 96, got 88\n  return f(*args, **kwds)\n/home/nbuser/anaconda3_501/lib/python3.6/importlib/_bootstrap.py:219: RuntimeWarning: numpy.dtype size changed, may indicate binary incompatibility. Expected 96, got 88\n  return f(*args, **kwds)\n/home/nbuser/anaconda3_501/lib/python3.6/importlib/_bootstrap.py:219: RuntimeWarning: numpy.dtype size changed, may indicate binary incompatibility. Expected 96, got 88\n  return f(*args, **kwds)\n/home/nbuser/anaconda3_501/lib/python3.6/importlib/_bootstrap.py:219: RuntimeWarning: numpy.dtype size changed, may indicate binary incompatibility. Expected 96, got 88\n  return f(*args, **kwds)\n",
          "name": "stderr"
        }
      ]
    },
    {
      "metadata": {
        "trusted": true
      },
      "cell_type": "code",
      "source": "categories = ['alt.atheism', 'soc.religion.christian','comp.graphics', 'sci.med']",
      "execution_count": 2,
      "outputs": []
    },
    {
      "metadata": {
        "trusted": true
      },
      "cell_type": "code",
      "source": "twenty_train = fetch_20newsgroups(subset='train', categories=categories, shuffle=True, random_state=42)",
      "execution_count": 3,
      "outputs": [
        {
          "output_type": "stream",
          "text": "Downloading 20news dataset. This may take a few minutes.\nDownloading dataset from https://ndownloader.figshare.com/files/5975967 (14 MB)\n",
          "name": "stderr"
        }
      ]
    },
    {
      "metadata": {
        "trusted": true
      },
      "cell_type": "code",
      "source": "#twenty_train.target_names[twenty_train.target[0], twenty_train.target[1], twenty_train.target[2], twenty_train.target[3]]\ntwenty_train.target_names[twenty_train.target[6]]",
      "execution_count": 4,
      "outputs": [
        {
          "output_type": "execute_result",
          "execution_count": 4,
          "data": {
            "text/plain": "'soc.religion.christian'"
          },
          "metadata": {}
        }
      ]
    },
    {
      "metadata": {
        "trusted": true
      },
      "cell_type": "code",
      "source": "len(twenty_train.data)",
      "execution_count": 5,
      "outputs": [
        {
          "output_type": "execute_result",
          "execution_count": 5,
          "data": {
            "text/plain": "2257"
          },
          "metadata": {}
        }
      ]
    },
    {
      "metadata": {
        "trusted": true
      },
      "cell_type": "code",
      "source": "len(twenty_train.filenames)",
      "execution_count": 6,
      "outputs": [
        {
          "output_type": "execute_result",
          "execution_count": 6,
          "data": {
            "text/plain": "2257"
          },
          "metadata": {}
        }
      ]
    },
    {
      "metadata": {
        "trusted": true
      },
      "cell_type": "code",
      "source": "print(\"\\n\".join(twenty_train.data[0].split(\"\\n\")[:3]))",
      "execution_count": 7,
      "outputs": [
        {
          "output_type": "stream",
          "text": "From: sd345@city.ac.uk (Michael Collier)\nSubject: Converting images to HP LaserJet III?\nNntp-Posting-Host: hampton\n",
          "name": "stdout"
        }
      ]
    },
    {
      "metadata": {
        "trusted": true
      },
      "cell_type": "code",
      "source": "print(twenty_train.target_names[twenty_train.target[0]])",
      "execution_count": 8,
      "outputs": [
        {
          "output_type": "stream",
          "text": "comp.graphics\n",
          "name": "stdout"
        }
      ]
    },
    {
      "metadata": {
        "trusted": true
      },
      "cell_type": "code",
      "source": "twenty_train.target[:10]",
      "execution_count": 9,
      "outputs": [
        {
          "output_type": "execute_result",
          "execution_count": 9,
          "data": {
            "text/plain": "array([1, 1, 3, 3, 3, 3, 3, 2, 2, 2])"
          },
          "metadata": {}
        }
      ]
    },
    {
      "metadata": {
        "trusted": true
      },
      "cell_type": "code",
      "source": "for t in twenty_train.target[:10]:\n    print(twenty_train.target_names[t])",
      "execution_count": 10,
      "outputs": [
        {
          "output_type": "stream",
          "text": "comp.graphics\ncomp.graphics\nsoc.religion.christian\nsoc.religion.christian\nsoc.religion.christian\nsoc.religion.christian\nsoc.religion.christian\nsci.med\nsci.med\nsci.med\n",
          "name": "stdout"
        }
      ]
    },
    {
      "metadata": {},
      "cell_type": "markdown",
      "source": "# Extracting features from text files"
    },
    {
      "metadata": {
        "trusted": true
      },
      "cell_type": "code",
      "source": "from sklearn.feature_extraction.text import CountVectorizer\ncount_vect = CountVectorizer()\nX_train_counts = count_vect.fit_transform(twenty_train.data)\nX_train_counts.shape",
      "execution_count": 11,
      "outputs": [
        {
          "output_type": "execute_result",
          "execution_count": 11,
          "data": {
            "text/plain": "(2257, 35788)"
          },
          "metadata": {}
        }
      ]
    },
    {
      "metadata": {
        "trusted": true
      },
      "cell_type": "code",
      "source": "count_vect.vocabulary_.get(u'algorithm')",
      "execution_count": 12,
      "outputs": [
        {
          "output_type": "execute_result",
          "execution_count": 12,
          "data": {
            "text/plain": "4690"
          },
          "metadata": {}
        }
      ]
    },
    {
      "metadata": {},
      "cell_type": "markdown",
      "source": "# We don't just want to count\n* We will use tfidf as well\n* TF-IDF is known as Term Frequency Inverse Document Frequency\n* This normalizes the length of the document, then it targets the words thatt are unique to certian documents and assigns weights.\n\nFor example words that appear a lot like \"the\" are weighted much less than words like \"abenomics\".  we can create vector representations of sentences.  Simply put we can transform documents into numbers and lists of documents into dataframes.\n"
    },
    {
      "metadata": {
        "trusted": true
      },
      "cell_type": "code",
      "source": "from sklearn.feature_extraction.text import TfidfTransformer\n",
      "execution_count": 13,
      "outputs": []
    },
    {
      "metadata": {
        "trusted": true
      },
      "cell_type": "code",
      "source": "tf_transformer = TfidfTransformer(use_idf=False).fit(X_train_counts)\nX_train_tf = tf_transformer.transform(X_train_counts)\nX_train_tf.shape",
      "execution_count": 14,
      "outputs": [
        {
          "output_type": "execute_result",
          "execution_count": 14,
          "data": {
            "text/plain": "(2257, 35788)"
          },
          "metadata": {}
        }
      ]
    },
    {
      "metadata": {
        "trusted": true
      },
      "cell_type": "code",
      "source": "tfidf_transformer = TfidfTransformer()\nX_train_tfidf = tfidf_transformer.fit_transform(X_train_counts)\nX_train_tfidf.shape",
      "execution_count": 15,
      "outputs": [
        {
          "output_type": "execute_result",
          "execution_count": 15,
          "data": {
            "text/plain": "(2257, 35788)"
          },
          "metadata": {}
        }
      ]
    },
    {
      "metadata": {},
      "cell_type": "markdown",
      "source": "## Now that we have our features, we can train a classifier to try to predict the category of a post."
    },
    {
      "metadata": {
        "trusted": true
      },
      "cell_type": "code",
      "source": "from sklearn.naive_bayes import MultinomialNB\nclf = MultinomialNB().fit(X_train_tfidf, twenty_train.target)",
      "execution_count": 16,
      "outputs": []
    },
    {
      "metadata": {
        "trusted": true
      },
      "cell_type": "code",
      "source": "docs_new = ['God is love', 'OpenGL on the GPU is fast']\nX_new_counts = count_vect.transform(docs_new)\nX_new_tfidf = tfidf_transformer.transform(X_new_counts)\n\npredicted = clf.predict(X_new_tfidf)\n\nfor doc, category in zip(docs_new, predicted):\n    print('%r => %s' % (doc, twenty_train.target_names[category]))",
      "execution_count": 17,
      "outputs": [
        {
          "output_type": "stream",
          "text": "'God is love' => soc.religion.christian\n'OpenGL on the GPU is fast' => comp.graphics\n",
          "name": "stdout"
        }
      ]
    },
    {
      "metadata": {
        "trusted": true
      },
      "cell_type": "markdown",
      "source": "## Building a pipeline\nIn order to make the vectorizer => transformer => classifier easier to work with, scikit-learn provides a Pipeline class that behaves like a compound classifier"
    },
    {
      "metadata": {
        "trusted": true
      },
      "cell_type": "code",
      "source": "from sklearn.pipeline import Pipeline\ntext_clf = Pipeline([('vect', CountVectorizer()),\n                    ('tfidf', TfidfTransformer()),\n                    ('clf', MultinomialNB()),])",
      "execution_count": 18,
      "outputs": []
    },
    {
      "metadata": {},
      "cell_type": "markdown",
      "source": "* The names vect, tfidf, and clf are arbitrary.  You will see thier use in the section below.  We can now train the model with a single command\n\ntext_clf.fit(twenty_train.data, twenty_train.target)\nPipeline(...)\n\n## Evaluation of the performance on the test set"
    },
    {
      "metadata": {
        "trusted": true
      },
      "cell_type": "code",
      "source": "import numpy as np\ntwenty_test = fetch_20newsgroups(subset='test', categories=categories, shuffle=True, random_state=42)\ndocs_test = twenty_test.data\npredicted = text_clf.predict(docs_test)\nnp.mean(predicted == twenty_test.target)",
      "execution_count": 22,
      "outputs": [
        {
          "output_type": "execute_result",
          "execution_count": 22,
          "data": {
            "text/plain": "0.8348868175765646"
          },
          "metadata": {}
        }
      ]
    },
    {
      "metadata": {},
      "cell_type": "markdown",
      "source": "* Looking at this we've achieved an accuracy of 83.4%.\n* Now let's try doing better with a linear support vector machine (SVM)\n* SVM's are regarded as one of the best text classification algorithms\n\n*We can change the learner by just plugging a different classifier object into our pipeline*"
    },
    {
      "metadata": {
        "trusted": true
      },
      "cell_type": "code",
      "source": "from sklearn.linear_model import SGDClassifier\ntext_clf = Pipeline([('vect', CountVectorizer()),\n                      ('tfidf', TfidfTransformer()),\n                      ('clf', SGDClassifier(loss='hinge', penalty='l2',\n                                            alpha=1e-3, random_state=42,\n                                            max_iter=5, tol=None)),\n                     ])\n    ",
      "execution_count": 24,
      "outputs": [
        {
          "output_type": "stream",
          "text": "/home/nbuser/anaconda3_501/lib/python3.6/importlib/_bootstrap.py:219: RuntimeWarning: numpy.dtype size changed, may indicate binary incompatibility. Expected 96, got 88\n  return f(*args, **kwds)\n",
          "name": "stderr"
        }
      ]
    },
    {
      "metadata": {
        "trusted": true
      },
      "cell_type": "code",
      "source": "text_clf.fit(twenty_train.data, twenty_train.target)  \npredicted = text_clf.predict(docs_test)\nnp.mean(predicted == twenty_test.target)  ",
      "execution_count": 26,
      "outputs": [
        {
          "output_type": "execute_result",
          "execution_count": 26,
          "data": {
            "text/plain": "0.9127829560585885"
          },
          "metadata": {}
        }
      ]
    },
    {
      "metadata": {
        "trusted": true
      },
      "cell_type": "code",
      "source": "#91.2% is pretty good!\n#let's get more detailed metrics for the performance results\nfrom sklearn import metrics\nprint(metrics.classification_report(twenty_test.target, predicted, target_names=twenty_test.target_names))",
      "execution_count": 27,
      "outputs": [
        {
          "output_type": "stream",
          "text": "                        precision    recall  f1-score   support\n\n           alt.atheism       0.95      0.81      0.87       319\n         comp.graphics       0.88      0.97      0.92       389\n               sci.med       0.94      0.90      0.92       396\nsoc.religion.christian       0.90      0.95      0.93       398\n\n           avg / total       0.92      0.91      0.91      1502\n\n",
          "name": "stdout"
        }
      ]
    },
    {
      "metadata": {
        "trusted": true
      },
      "cell_type": "code",
      "source": "metrics.confusion_matrix(twenty_test.target, predicted)",
      "execution_count": 28,
      "outputs": [
        {
          "output_type": "execute_result",
          "execution_count": 28,
          "data": {
            "text/plain": "array([[258,  11,  15,  35],\n       [  4, 379,   3,   3],\n       [  5,  33, 355,   3],\n       [  5,  10,   4, 379]])"
          },
          "metadata": {}
        }
      ]
    },
    {
      "metadata": {
        "trusted": true
      },
      "cell_type": "code",
      "source": "import seaborn as sn\nimport pandas as pd\nimport matplotlib.pyplot as plt\n\narray = metrics.confusion_matrix(twenty_test.target, predicted)\nnames = ('alt.atheism', 'comp.graphics', 'sci.med', 'soc.religion.christian')\n      \n#df_cm = pd.DataFrame(array, range(4), range(4))\ndf_cm = pd.DataFrame(array, names, names)\nplt.figure(figsize = (10,7))\nsn.set(font_scale=1.4)#for label size\nsn.heatmap(df_cm, annot=True,annot_kws={\"size\": 16})# font size",
      "execution_count": 35,
      "outputs": [
        {
          "output_type": "execute_result",
          "execution_count": 35,
          "data": {
            "text/plain": "<matplotlib.axes._subplots.AxesSubplot at 0x7f3cdb4fa5c0>"
          },
          "metadata": {}
        },
        {
          "output_type": "display_data",
          "data": {
            "image/png": "[encoded data removed]",
            "text/plain": "<matplotlib.figure.Figure at 0x7f3cdb4bdcc0>"
          },
          "metadata": {}
        }
      ]
    },
    {
      "metadata": {
        "trusted": true
      },
      "cell_type": "code",
      "source": "",
      "execution_count": null,
      "outputs": []
    }
  ],
  "metadata": {
    "kernelspec": {
      "name": "python36",
      "display_name": "Python 3.6",
      "language": "python"
    },
    "language_info": {
      "mimetype": "text/x-python",
      "nbconvert_exporter": "python",
      "name": "python",
      "pygments_lexer": "ipython3",
      "version": "3.6.3",
      "file_extension": ".py",
      "codemirror_mode": {
        "version": 3,
        "name": "ipython"
      }
    }
  },
  "nbformat": 4,
  "nbformat_minor": 2
}